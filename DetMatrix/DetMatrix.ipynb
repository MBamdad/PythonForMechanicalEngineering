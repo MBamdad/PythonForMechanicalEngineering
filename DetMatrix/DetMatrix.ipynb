{
  "nbformat": 4,
  "nbformat_minor": 0,
  "metadata": {
    "colab": {
      "name": "det.ipynb",
      "provenance": [],
      "collapsed_sections": []
    },
    "kernelspec": {
      "name": "python3",
      "display_name": "Python 3"
    },
    "language_info": {
      "name": "python"
    }
  },
  "cells": [
    {
      "cell_type": "code",
      "execution_count": null,
      "metadata": {
        "id": "XafRMBplpZEr"
      },
      "outputs": [],
      "source": [
        "import numpy as np\n",
        "\n",
        "def det(n,B):\n",
        "\n",
        "  G = np.identity (n)\n",
        "  S=[]\n",
        "  C=[]\n",
        "  C.append(1)\n",
        "  for i in range (n):\n",
        "      G=np.dot(B,G)\n",
        "\n",
        "      S1 = 0\n",
        "      \n",
        "      for j in range (n):\n",
        "          S1 = S1 + G[j][j]\n",
        "      S.append(S1)\n",
        "      #print(S)\n",
        "      sum=0\n",
        "      for j in range (len(S)):\n",
        "        sum = sum + (S[j]*C[len(S)-1-j])\n",
        "\n",
        "      C.append(((-1/(i+1)))*sum)\n",
        "\n",
        "\n",
        "  det = ((-1)**n)*C.pop()\n",
        "  print ('Det(A) = ',det,'\\nA is a matrix of ''{}*{}'.format(len(C),len(C)))\n",
        "\n",
        "  #print(C[len(C)-1])\n",
        "  #print(C.pop()) # akhar list ra midahad\n",
        "n = int(input( 'Size of Matrix: '))\n",
        "B=[]\n",
        "for i in range (n):\n",
        "  A=[]\n",
        "  for j in range (n):\n",
        "      A.append(int(input(' enters arrays: ')))\n",
        "  B.append(A)\n",
        "det(n,B)"
      ]
    }
  ]
}