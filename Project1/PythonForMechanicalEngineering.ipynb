{
 "cells": [
  {
   "cell_type": "markdown",
   "id": "b6d40e33",
   "metadata": {},
   "source": [
    "# Section 1:\n",
    "# Heading"
   ]
  },
  {
   "cell_type": "code",
   "execution_count": 12,
   "id": "90e2ed15",
   "metadata": {},
   "outputs": [
    {
     "name": "stdout",
     "output_type": "stream",
     "text": [
      "14.2857\n"
     ]
    }
   ],
   "source": [
    "a = 100\n",
    "b = 7\n",
    "z= a/b\n",
    "print(round(z,4))"
   ]
  },
  {
   "cell_type": "markdown",
   "id": "2370bba8",
   "metadata": {},
   "source": [
    "# String"
   ]
  },
  {
   "cell_type": "code",
   "execution_count": 14,
   "id": "a04c0293",
   "metadata": {},
   "outputs": [
    {
     "name": "stdout",
     "output_type": "stream",
     "text": [
      "I like to study mathmatic and I read for 40 min\n"
     ]
    }
   ],
   "source": [
    "s= 'mathmatic'\n",
    "t=40\n",
    "\n",
    "print ('I like to study {} and I read for {} min'.format(s,t))"
   ]
  },
  {
   "cell_type": "markdown",
   "id": "c4577416",
   "metadata": {},
   "source": [
    "# List"
   ]
  },
  {
   "cell_type": "code",
   "execution_count": 34,
   "id": "0f451f5c",
   "metadata": {},
   "outputs": [
    {
     "data": {
      "text/plain": [
       "[1, 2, 3, 4, 5, 6, 'book']"
      ]
     },
     "execution_count": 34,
     "metadata": {},
     "output_type": "execute_result"
    }
   ],
   "source": [
    "l1 = [1, 2, 3, 4, 5, 6 ]\n",
    "l1[0]\n",
    "l1[-1]\n",
    "l1[0:2]\n",
    "\n",
    "s= \"book\"\n",
    "l1.append(s)\n",
    "l1"
   ]
  },
  {
   "cell_type": "markdown",
   "id": "f4cc0c11",
   "metadata": {},
   "source": [
    "# Dictionary"
   ]
  },
  {
   "cell_type": "code",
   "execution_count": null,
   "id": "b8283ed6",
   "metadata": {},
   "outputs": [],
   "source": []
  },
  {
   "cell_type": "code",
   "execution_count": 21,
   "id": "7df778f7",
   "metadata": {},
   "outputs": [
    {
     "data": {
      "text/plain": [
       "10"
      ]
     },
     "execution_count": 21,
     "metadata": {},
     "output_type": "execute_result"
    }
   ],
   "source": [
    "d= {'key':10, 'key2': 'Python'}\n",
    "d['key']"
   ]
  },
  {
   "cell_type": "markdown",
   "id": "f4ac016b",
   "metadata": {},
   "source": [
    "# Tupe "
   ]
  },
  {
   "cell_type": "code",
   "execution_count": 22,
   "id": "0245f49d",
   "metadata": {},
   "outputs": [],
   "source": [
    "tupe = (1,2,3,4,5,6)"
   ]
  },
  {
   "cell_type": "code",
   "execution_count": 24,
   "id": "fc6bb5ca",
   "metadata": {},
   "outputs": [
    {
     "data": {
      "text/plain": [
       "(1, 2, 3)"
      ]
     },
     "execution_count": 24,
     "metadata": {},
     "output_type": "execute_result"
    }
   ],
   "source": [
    "tupe[0]\n",
    "tupe[0:3]"
   ]
  },
  {
   "cell_type": "code",
   "execution_count": null,
   "id": "1b6ff5b5",
   "metadata": {},
   "outputs": [],
   "source": [
    "# difference between Tupe and List is that in Tupe append doesn't work"
   ]
  },
  {
   "cell_type": "markdown",
   "id": "10fe1252",
   "metadata": {},
   "source": [
    "# Sction 2:\n",
    "# For Lop"
   ]
  },
  {
   "cell_type": "code",
   "execution_count": 73,
   "id": "885bd80c",
   "metadata": {},
   "outputs": [
    {
     "name": "stdout",
     "output_type": "stream",
     "text": [
      "24 \n",
      "n\n",
      "[2]\n",
      "[2, 4]\n",
      "[2, 4, 6]\n",
      "[2, 4, 6, 8]\n",
      "[2, 4, 6, 8, 10]\n",
      "[2, 4, 6, 8, 10, 12]\n",
      "[2, 4, 6, 8, 10, 12, 14]\n",
      "[2, 4, 6, 8, 10, 12, 14, 16]\n",
      "[2, 4, 6, 8, 10, 12, 14, 16, 18]\n",
      "[2, 4, 6, 8, 10, 12, 14, 16, 18, 20]\n"
     ]
    },
    {
     "data": {
      "text/plain": [
       "[2, 4, 6, 8, 10, 12, 14, 16, 18, 20]"
      ]
     },
     "execution_count": 73,
     "metadata": {},
     "output_type": "execute_result"
    }
   ],
   "source": [
    "# le multiply number from 1 to 10\n",
    "a=1\n",
    "for i in range(1,5,1):\n",
    "    a = a*i    \n",
    "print(a,'\\n')\n",
    "n = 2\n",
    "b=[]\n",
    "for i in range(1,11,1):\n",
    "    b.append(i*n) # two methods of the multiply ---> create a List\n",
    "    #print(i*n)  # create just a simple intiure not a list\n",
    "    print(b)\n",
    "b\n",
    "    \n",
    "    "
   ]
  },
  {
   "cell_type": "code",
   "execution_count": 75,
   "id": "cf699dba",
   "metadata": {},
   "outputs": [
    {
     "name": "stdout",
     "output_type": "stream",
     "text": [
      "2.0\n",
      "4.0\n",
      "6.0\n",
      "8.0\n",
      "10.0\n",
      "12.0\n",
      "14.0\n",
      "16.0\n",
      "18.0\n",
      "20.0\n"
     ]
    }
   ],
   "source": [
    "import numpy as np\n",
    "n=2\n",
    "x = np.linspace(1,10,10) \n",
    "\n",
    "for i in x:  # i my temprorary varible which takes value from x array\n",
    "    p = i*n\n",
    "    print(p)"
   ]
  },
  {
   "cell_type": "code",
   "execution_count": 82,
   "id": "752f3242",
   "metadata": {},
   "outputs": [
    {
     "name": "stdout",
     "output_type": "stream",
     "text": [
      "Enter number: 4\n",
      "\n",
      "The sum is below: \n",
      "sum is:  10\n"
     ]
    }
   ],
   "source": [
    "s = 0\n",
    "\n",
    "n = int (input ('Enter number: '))\n",
    "for i in range(1, n+1,1):\n",
    "    s+=i\n",
    "print('\\nThe sum is below: ')\n",
    "print('sum is: ', s)"
   ]
  },
  {
   "cell_type": "markdown",
   "id": "c761f83b",
   "metadata": {},
   "source": [
    "# IF Statement"
   ]
  },
  {
   "cell_type": "code",
   "execution_count": 105,
   "id": "c33148c9",
   "metadata": {},
   "outputs": [
    {
     "name": "stdout",
     "output_type": "stream",
     "text": [
      "Enter number: -5\n",
      "-5 is a negative number\n",
      "\n",
      "\n",
      "(1.3691967456605067e-16+2.23606797749979j)\n"
     ]
    }
   ],
   "source": [
    "n= int(input('Enter number: '))\n",
    "if n>0:\n",
    "    print(n, 'is a positive number')\n",
    "    x = n**2\n",
    "elif n==0:\n",
    "    print(n, 'is zero')\n",
    "    x=0\n",
    "else:\n",
    "    print(n, 'is a negative number')\n",
    "    x= n**0.5\n",
    "print('\\n')\n",
    "print(x) "
   ]
  },
  {
   "cell_type": "markdown",
   "id": "74a6c09c",
   "metadata": {},
   "source": [
    "# While Lop"
   ]
  },
  {
   "cell_type": "code",
   "execution_count": 129,
   "id": "95ba8796",
   "metadata": {},
   "outputs": [
    {
     "name": "stdout",
     "output_type": "stream",
     "text": [
      "i is: 1 The sum is: 1\n",
      "i is: 2 The sum is: 3\n",
      "i is: 3 The sum is: 6\n",
      "i is: 4 The sum is: 10\n",
      "i is: 6 The sum is: 16\n",
      "i is: 7 The sum is: 23\n",
      "i is: 8 The sum is: 31\n",
      "i is no longer less than 8\n"
     ]
    }
   ],
   "source": [
    "# Application: To calculate the root of Equations\n",
    "\n",
    "s = 0\n",
    "i = 0\n",
    "n = 7 # last number\n",
    "while i<=n:\n",
    "    i = i+1\n",
    "    if i==5:\n",
    "        #break\n",
    "        continue\n",
    "    s = s+i\n",
    "    \n",
    "    print('i is:',i, 'The sum is:', s)\n",
    "else:\n",
    "  print(\"i is no longer less than {}\".format(n+1))"
   ]
  },
  {
   "cell_type": "markdown",
   "id": "c75b3305",
   "metadata": {},
   "source": [
    "# Function"
   ]
  },
  {
   "cell_type": "code",
   "execution_count": 133,
   "id": "03e24910",
   "metadata": {},
   "outputs": [
    {
     "data": {
      "text/plain": [
       "120"
      ]
     },
     "execution_count": 133,
     "metadata": {},
     "output_type": "execute_result"
    }
   ],
   "source": [
    "# valume of a cube\n",
    "\n",
    "a= 2\n",
    "b= 3\n",
    "c = 4\n",
    "#v = a*b*c\n",
    "\n",
    "def valume (x,y,z):\n",
    "    v = x*y*z\n",
    "    \n",
    "    return v\n",
    "valume(a,b,c)\n",
    "valume(6,5,4)\n"
   ]
  },
  {
   "cell_type": "code",
   "execution_count": 136,
   "id": "861df8b0",
   "metadata": {},
   "outputs": [
    {
     "data": {
      "text/plain": [
       "12.5664"
      ]
     },
     "execution_count": 136,
     "metadata": {},
     "output_type": "execute_result"
    }
   ],
   "source": [
    "# Area of a circle\n",
    "import numpy as np\n",
    "def area(r):\n",
    "    A = np.pi*r**2\n",
    "    return A\n",
    "round (area(2),4)"
   ]
  },
  {
   "cell_type": "markdown",
   "id": "270705d9",
   "metadata": {},
   "source": [
    "# Section 3:\n",
    "# Libraries"
   ]
  },
  {
   "cell_type": "code",
   "execution_count": 137,
   "id": "95b54f1a",
   "metadata": {},
   "outputs": [
    {
     "name": "stdout",
     "output_type": "stream",
     "text": [
      "Requirement already satisfied: numpy in c:\\users\\hp\\anaconda3\\lib\\site-packages (1.21.6)\n"
     ]
    }
   ],
   "source": [
    "# for installing a library \n",
    "! pip install numpy"
   ]
  },
  {
   "cell_type": "code",
   "execution_count": 151,
   "id": "71c24cdc",
   "metadata": {},
   "outputs": [
    {
     "name": "stdout",
     "output_type": "stream",
     "text": [
      "1.0 \n",
      "\n"
     ]
    },
    {
     "data": {
      "text/plain": [
       "1.0"
      ]
     },
     "execution_count": 151,
     "metadata": {},
     "output_type": "execute_result"
    }
   ],
   "source": [
    "import numpy as np\n",
    "import math\n",
    "x= 1/2\n",
    "b=90\n",
    "y = np.sin(np.pi*x)\n",
    "print(y,'\\n')\n",
    "z = np.sin(np.radians(b))\n",
    "y"
   ]
  },
  {
   "cell_type": "code",
   "execution_count": 159,
   "id": "8cfd1202",
   "metadata": {},
   "outputs": [
    {
     "name": "stdout",
     "output_type": "stream",
     "text": [
      "(2, 3) \n",
      "\n",
      "2\n"
     ]
    }
   ],
   "source": [
    "a = np.array ([[1,2,5],[3,4,-8]])\n",
    "print(a.shape,'\\n')\n",
    "print(a[0,1])"
   ]
  },
  {
   "cell_type": "code",
   "execution_count": null,
   "id": "40b5216d",
   "metadata": {},
   "outputs": [],
   "source": []
  }
 ],
 "metadata": {
  "kernelspec": {
   "display_name": "Python 3 (ipykernel)",
   "language": "python",
   "name": "python3"
  },
  "language_info": {
   "codemirror_mode": {
    "name": "ipython",
    "version": 3
   },
   "file_extension": ".py",
   "mimetype": "text/x-python",
   "name": "python",
   "nbconvert_exporter": "python",
   "pygments_lexer": "ipython3",
   "version": "3.9.12"
  }
 },
 "nbformat": 4,
 "nbformat_minor": 5
}
